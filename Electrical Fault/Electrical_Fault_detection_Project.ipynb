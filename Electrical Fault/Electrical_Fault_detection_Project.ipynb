{
  "cells": [
    {
      "cell_type": "markdown",
      "metadata": {
        "id": "W3EatTY4VQ4S"
      },
      "source": [
        "# Electrical Fault detection"
      ]
    },
    {
      "cell_type": "markdown",
      "metadata": {
        "id": "yOPnc8tVVg_a"
      },
      "source": [
        "Aim - To predict faults in a power system."
      ]
    },
    {
      "cell_type": "markdown",
      "metadata": {
        "id": "DYUvjaFqVtKh"
      },
      "source": [
        "# Dataset Desciption\n",
        "\n",
        "The dataset contains one file \n",
        "\n",
        "detect_dataset.csv\n",
        "\n",
        "shape of the dataset is (12001, 9)\n",
        "\n",
        "# Columns in dataset\n",
        "\n",
        "there are seven columns\n",
        "\n",
        "'Output (S)',\n",
        "\n",
        "'Ia',\n",
        "\n",
        "'Ib',\n",
        "\n",
        "'Ic',\n",
        "\n",
        "'Va', \n",
        "\n",
        "'Vb', \n",
        "\n",
        "'Vc', \n",
        "\n",
        "'Unnamed: 7',\n",
        "\n",
        "'Unnamed: 8'\n",
        "\n",
        "Outputs - 0 (No-fault) or 1(Fault is present)"
      ]
    },
    {
      "cell_type": "code",
      "execution_count": 1,
      "metadata": {
        "id": "onJmI6AzieJL"
      },
      "outputs": [],
      "source": [
        "# Importing Necessary Libraries\n",
        "\n",
        "import numpy as np\n",
        "import pandas as pd\n",
        "import matplotlib.pyplot as plt\n",
        "import seaborn as sns\n"
      ]
    },
    {
      "cell_type": "code",
      "execution_count": 67,
      "metadata": {
        "id": "t3U0ef3llvMd"
      },
      "outputs": [],
      "source": [
        "# Reading the csv file using pandas\n",
        "\n",
        "data = pd.read_csv('/content/detect_dataset.csv')"
      ]
    },
    {
      "cell_type": "code",
      "execution_count": 3,
      "metadata": {
        "colab": {
          "base_uri": "https://localhost:8080/",
          "height": 206
        },
        "id": "yckoKHYilvJT",
        "outputId": "6c162b4c-1b87-47d1-bec8-ef64d0f9b69c"
      },
      "outputs": [
        {
          "output_type": "execute_result",
          "data": {
            "text/plain": [
              "   Output (S)          Ia        Ib          Ic        Va        Vb        Vc  \\\n",
              "0           0 -170.472196  9.219613  161.252583  0.054490 -0.659921  0.605431   \n",
              "1           0 -122.235754  6.168667  116.067087  0.102000 -0.628612  0.526202   \n",
              "2           0  -90.161474  3.813632   86.347841  0.141026 -0.605277  0.464251   \n",
              "3           0  -79.904916  2.398803   77.506112  0.156272 -0.602235  0.445963   \n",
              "4           0  -63.885255  0.590667   63.294587  0.180451 -0.591501  0.411050   \n",
              "\n",
              "   Unnamed: 7  Unnamed: 8  \n",
              "0         NaN         NaN  \n",
              "1         NaN         NaN  \n",
              "2         NaN         NaN  \n",
              "3         NaN         NaN  \n",
              "4         NaN         NaN  "
            ],
            "text/html": [
              "\n",
              "  <div id=\"df-61550eda-e051-44dd-b9a1-c0c139b33b52\">\n",
              "    <div class=\"colab-df-container\">\n",
              "      <div>\n",
              "<style scoped>\n",
              "    .dataframe tbody tr th:only-of-type {\n",
              "        vertical-align: middle;\n",
              "    }\n",
              "\n",
              "    .dataframe tbody tr th {\n",
              "        vertical-align: top;\n",
              "    }\n",
              "\n",
              "    .dataframe thead th {\n",
              "        text-align: right;\n",
              "    }\n",
              "</style>\n",
              "<table border=\"1\" class=\"dataframe\">\n",
              "  <thead>\n",
              "    <tr style=\"text-align: right;\">\n",
              "      <th></th>\n",
              "      <th>Output (S)</th>\n",
              "      <th>Ia</th>\n",
              "      <th>Ib</th>\n",
              "      <th>Ic</th>\n",
              "      <th>Va</th>\n",
              "      <th>Vb</th>\n",
              "      <th>Vc</th>\n",
              "      <th>Unnamed: 7</th>\n",
              "      <th>Unnamed: 8</th>\n",
              "    </tr>\n",
              "  </thead>\n",
              "  <tbody>\n",
              "    <tr>\n",
              "      <th>0</th>\n",
              "      <td>0</td>\n",
              "      <td>-170.472196</td>\n",
              "      <td>9.219613</td>\n",
              "      <td>161.252583</td>\n",
              "      <td>0.054490</td>\n",
              "      <td>-0.659921</td>\n",
              "      <td>0.605431</td>\n",
              "      <td>NaN</td>\n",
              "      <td>NaN</td>\n",
              "    </tr>\n",
              "    <tr>\n",
              "      <th>1</th>\n",
              "      <td>0</td>\n",
              "      <td>-122.235754</td>\n",
              "      <td>6.168667</td>\n",
              "      <td>116.067087</td>\n",
              "      <td>0.102000</td>\n",
              "      <td>-0.628612</td>\n",
              "      <td>0.526202</td>\n",
              "      <td>NaN</td>\n",
              "      <td>NaN</td>\n",
              "    </tr>\n",
              "    <tr>\n",
              "      <th>2</th>\n",
              "      <td>0</td>\n",
              "      <td>-90.161474</td>\n",
              "      <td>3.813632</td>\n",
              "      <td>86.347841</td>\n",
              "      <td>0.141026</td>\n",
              "      <td>-0.605277</td>\n",
              "      <td>0.464251</td>\n",
              "      <td>NaN</td>\n",
              "      <td>NaN</td>\n",
              "    </tr>\n",
              "    <tr>\n",
              "      <th>3</th>\n",
              "      <td>0</td>\n",
              "      <td>-79.904916</td>\n",
              "      <td>2.398803</td>\n",
              "      <td>77.506112</td>\n",
              "      <td>0.156272</td>\n",
              "      <td>-0.602235</td>\n",
              "      <td>0.445963</td>\n",
              "      <td>NaN</td>\n",
              "      <td>NaN</td>\n",
              "    </tr>\n",
              "    <tr>\n",
              "      <th>4</th>\n",
              "      <td>0</td>\n",
              "      <td>-63.885255</td>\n",
              "      <td>0.590667</td>\n",
              "      <td>63.294587</td>\n",
              "      <td>0.180451</td>\n",
              "      <td>-0.591501</td>\n",
              "      <td>0.411050</td>\n",
              "      <td>NaN</td>\n",
              "      <td>NaN</td>\n",
              "    </tr>\n",
              "  </tbody>\n",
              "</table>\n",
              "</div>\n",
              "      <button class=\"colab-df-convert\" onclick=\"convertToInteractive('df-61550eda-e051-44dd-b9a1-c0c139b33b52')\"\n",
              "              title=\"Convert this dataframe to an interactive table.\"\n",
              "              style=\"display:none;\">\n",
              "        \n",
              "  <svg xmlns=\"http://www.w3.org/2000/svg\" height=\"24px\"viewBox=\"0 0 24 24\"\n",
              "       width=\"24px\">\n",
              "    <path d=\"M0 0h24v24H0V0z\" fill=\"none\"/>\n",
              "    <path d=\"M18.56 5.44l.94 2.06.94-2.06 2.06-.94-2.06-.94-.94-2.06-.94 2.06-2.06.94zm-11 1L8.5 8.5l.94-2.06 2.06-.94-2.06-.94L8.5 2.5l-.94 2.06-2.06.94zm10 10l.94 2.06.94-2.06 2.06-.94-2.06-.94-.94-2.06-.94 2.06-2.06.94z\"/><path d=\"M17.41 7.96l-1.37-1.37c-.4-.4-.92-.59-1.43-.59-.52 0-1.04.2-1.43.59L10.3 9.45l-7.72 7.72c-.78.78-.78 2.05 0 2.83L4 21.41c.39.39.9.59 1.41.59.51 0 1.02-.2 1.41-.59l7.78-7.78 2.81-2.81c.8-.78.8-2.07 0-2.86zM5.41 20L4 18.59l7.72-7.72 1.47 1.35L5.41 20z\"/>\n",
              "  </svg>\n",
              "      </button>\n",
              "      \n",
              "  <style>\n",
              "    .colab-df-container {\n",
              "      display:flex;\n",
              "      flex-wrap:wrap;\n",
              "      gap: 12px;\n",
              "    }\n",
              "\n",
              "    .colab-df-convert {\n",
              "      background-color: #E8F0FE;\n",
              "      border: none;\n",
              "      border-radius: 50%;\n",
              "      cursor: pointer;\n",
              "      display: none;\n",
              "      fill: #1967D2;\n",
              "      height: 32px;\n",
              "      padding: 0 0 0 0;\n",
              "      width: 32px;\n",
              "    }\n",
              "\n",
              "    .colab-df-convert:hover {\n",
              "      background-color: #E2EBFA;\n",
              "      box-shadow: 0px 1px 2px rgba(60, 64, 67, 0.3), 0px 1px 3px 1px rgba(60, 64, 67, 0.15);\n",
              "      fill: #174EA6;\n",
              "    }\n",
              "\n",
              "    [theme=dark] .colab-df-convert {\n",
              "      background-color: #3B4455;\n",
              "      fill: #D2E3FC;\n",
              "    }\n",
              "\n",
              "    [theme=dark] .colab-df-convert:hover {\n",
              "      background-color: #434B5C;\n",
              "      box-shadow: 0px 1px 3px 1px rgba(0, 0, 0, 0.15);\n",
              "      filter: drop-shadow(0px 1px 2px rgba(0, 0, 0, 0.3));\n",
              "      fill: #FFFFFF;\n",
              "    }\n",
              "  </style>\n",
              "\n",
              "      <script>\n",
              "        const buttonEl =\n",
              "          document.querySelector('#df-61550eda-e051-44dd-b9a1-c0c139b33b52 button.colab-df-convert');\n",
              "        buttonEl.style.display =\n",
              "          google.colab.kernel.accessAllowed ? 'block' : 'none';\n",
              "\n",
              "        async function convertToInteractive(key) {\n",
              "          const element = document.querySelector('#df-61550eda-e051-44dd-b9a1-c0c139b33b52');\n",
              "          const dataTable =\n",
              "            await google.colab.kernel.invokeFunction('convertToInteractive',\n",
              "                                                     [key], {});\n",
              "          if (!dataTable) return;\n",
              "\n",
              "          const docLinkHtml = 'Like what you see? Visit the ' +\n",
              "            '<a target=\"_blank\" href=https://colab.research.google.com/notebooks/data_table.ipynb>data table notebook</a>'\n",
              "            + ' to learn more about interactive tables.';\n",
              "          element.innerHTML = '';\n",
              "          dataTable['output_type'] = 'display_data';\n",
              "          await google.colab.output.renderOutput(dataTable, element);\n",
              "          const docLink = document.createElement('div');\n",
              "          docLink.innerHTML = docLinkHtml;\n",
              "          element.appendChild(docLink);\n",
              "        }\n",
              "      </script>\n",
              "    </div>\n",
              "  </div>\n",
              "  "
            ]
          },
          "metadata": {},
          "execution_count": 3
        }
      ],
      "source": [
        "data.head()"
      ]
    },
    {
      "cell_type": "markdown",
      "metadata": {
        "id": "174wyWpVWXHr"
      },
      "source": [
        "# Basic EDA"
      ]
    },
    {
      "cell_type": "code",
      "execution_count": 68,
      "metadata": {
        "colab": {
          "base_uri": "https://localhost:8080/"
        },
        "id": "RDwkZbfflvIK",
        "outputId": "92845dd5-e675-403e-97b8-69099c1a3296"
      },
      "outputs": [
        {
          "output_type": "execute_result",
          "data": {
            "text/plain": [
              "(12001, 9)"
            ]
          },
          "metadata": {},
          "execution_count": 68
        }
      ],
      "source": [
        "#checking shape of the dataset\n",
        "\n",
        "data.shape"
      ]
    },
    {
      "cell_type": "code",
      "execution_count": 5,
      "metadata": {
        "colab": {
          "base_uri": "https://localhost:8080/"
        },
        "id": "7e8t0ue5lvEV",
        "outputId": "9c566f4c-26e2-49ca-85d0-326f12fc7ba1"
      },
      "outputs": [
        {
          "output_type": "execute_result",
          "data": {
            "text/plain": [
              "Index(['Output (S)', 'Ia', 'Ib', 'Ic', 'Va', 'Vb', 'Vc', 'Unnamed: 7',\n",
              "       'Unnamed: 8'],\n",
              "      dtype='object')"
            ]
          },
          "metadata": {},
          "execution_count": 5
        }
      ],
      "source": [
        "# checking columns of dataset\n",
        "\n",
        "data.columns"
      ]
    },
    {
      "cell_type": "code",
      "execution_count": 6,
      "metadata": {
        "colab": {
          "base_uri": "https://localhost:8080/"
        },
        "id": "qmywjdE5SjwQ",
        "outputId": "307f023a-f06b-4c32-fba1-d588f0d64241"
      },
      "outputs": [
        {
          "output_type": "stream",
          "name": "stdout",
          "text": [
            "dataset length: 12001\n"
          ]
        }
      ],
      "source": [
        "# checking length of dataset\n",
        "\n",
        "print('dataset length:',len(data))"
      ]
    },
    {
      "cell_type": "code",
      "execution_count": 8,
      "metadata": {
        "colab": {
          "base_uri": "https://localhost:8080/"
        },
        "id": "1bFLlxnlSgGc",
        "outputId": "490155c1-013b-44fc-b8ef-c818e28f21d3"
      },
      "outputs": [
        {
          "output_type": "stream",
          "name": "stdout",
          "text": [
            "<class 'pandas.core.frame.DataFrame'>\n",
            "RangeIndex: 12001 entries, 0 to 12000\n",
            "Data columns (total 9 columns):\n",
            " #   Column      Non-Null Count  Dtype  \n",
            "---  ------      --------------  -----  \n",
            " 0   Output (S)  12001 non-null  int64  \n",
            " 1   Ia          12001 non-null  float64\n",
            " 2   Ib          12001 non-null  float64\n",
            " 3   Ic          12001 non-null  float64\n",
            " 4   Va          12001 non-null  float64\n",
            " 5   Vb          12001 non-null  float64\n",
            " 6   Vc          12001 non-null  float64\n",
            " 7   Unnamed: 7  0 non-null      float64\n",
            " 8   Unnamed: 8  0 non-null      float64\n",
            "dtypes: float64(8), int64(1)\n",
            "memory usage: 843.9 KB\n"
          ]
        }
      ],
      "source": [
        "# Checking which columns have categorical, numerical or boolean values\n",
        "\n",
        "data.info()"
      ]
    },
    {
      "cell_type": "code",
      "execution_count": 9,
      "metadata": {
        "colab": {
          "base_uri": "https://localhost:8080/",
          "height": 300
        },
        "id": "WEEyYVD_lvDU",
        "outputId": "54c77dc4-5fca-44bd-b3cd-0a40da45efd9"
      },
      "outputs": [
        {
          "output_type": "execute_result",
          "data": {
            "text/plain": [
              "         Output (S)            Ia            Ib            Ic            Va  \\\n",
              "count  12001.000000  12001.000000  12001.000000  12001.000000  12001.000000   \n",
              "mean       0.457962      6.709369    -26.557793     22.353043      0.010517   \n",
              "std        0.498250    377.158470    357.458613    302.052809      0.346221   \n",
              "min        0.000000   -883.542316   -900.526951   -883.357762     -0.620748   \n",
              "25%        0.000000    -64.348986    -51.421937    -54.562257     -0.237610   \n",
              "50%        0.000000     -3.239788      4.711283     -0.399419      0.002465   \n",
              "75%        1.000000     53.823453     69.637787     45.274542      0.285078   \n",
              "max        1.000000    885.738571    889.868884    901.274261      0.609864   \n",
              "\n",
              "                 Vb            Vc  Unnamed: 7  Unnamed: 8  \n",
              "count  12001.000000  12001.000000         0.0         0.0  \n",
              "mean      -0.015498      0.004980         NaN         NaN  \n",
              "std        0.357644      0.349272         NaN         NaN  \n",
              "min       -0.659921     -0.612709         NaN         NaN  \n",
              "25%       -0.313721     -0.278951         NaN         NaN  \n",
              "50%       -0.007192      0.008381         NaN         NaN  \n",
              "75%        0.248681      0.289681         NaN         NaN  \n",
              "max        0.627875      0.608243         NaN         NaN  "
            ],
            "text/html": [
              "\n",
              "  <div id=\"df-b32afbcb-979a-4776-a828-b33f263a1a2c\">\n",
              "    <div class=\"colab-df-container\">\n",
              "      <div>\n",
              "<style scoped>\n",
              "    .dataframe tbody tr th:only-of-type {\n",
              "        vertical-align: middle;\n",
              "    }\n",
              "\n",
              "    .dataframe tbody tr th {\n",
              "        vertical-align: top;\n",
              "    }\n",
              "\n",
              "    .dataframe thead th {\n",
              "        text-align: right;\n",
              "    }\n",
              "</style>\n",
              "<table border=\"1\" class=\"dataframe\">\n",
              "  <thead>\n",
              "    <tr style=\"text-align: right;\">\n",
              "      <th></th>\n",
              "      <th>Output (S)</th>\n",
              "      <th>Ia</th>\n",
              "      <th>Ib</th>\n",
              "      <th>Ic</th>\n",
              "      <th>Va</th>\n",
              "      <th>Vb</th>\n",
              "      <th>Vc</th>\n",
              "      <th>Unnamed: 7</th>\n",
              "      <th>Unnamed: 8</th>\n",
              "    </tr>\n",
              "  </thead>\n",
              "  <tbody>\n",
              "    <tr>\n",
              "      <th>count</th>\n",
              "      <td>12001.000000</td>\n",
              "      <td>12001.000000</td>\n",
              "      <td>12001.000000</td>\n",
              "      <td>12001.000000</td>\n",
              "      <td>12001.000000</td>\n",
              "      <td>12001.000000</td>\n",
              "      <td>12001.000000</td>\n",
              "      <td>0.0</td>\n",
              "      <td>0.0</td>\n",
              "    </tr>\n",
              "    <tr>\n",
              "      <th>mean</th>\n",
              "      <td>0.457962</td>\n",
              "      <td>6.709369</td>\n",
              "      <td>-26.557793</td>\n",
              "      <td>22.353043</td>\n",
              "      <td>0.010517</td>\n",
              "      <td>-0.015498</td>\n",
              "      <td>0.004980</td>\n",
              "      <td>NaN</td>\n",
              "      <td>NaN</td>\n",
              "    </tr>\n",
              "    <tr>\n",
              "      <th>std</th>\n",
              "      <td>0.498250</td>\n",
              "      <td>377.158470</td>\n",
              "      <td>357.458613</td>\n",
              "      <td>302.052809</td>\n",
              "      <td>0.346221</td>\n",
              "      <td>0.357644</td>\n",
              "      <td>0.349272</td>\n",
              "      <td>NaN</td>\n",
              "      <td>NaN</td>\n",
              "    </tr>\n",
              "    <tr>\n",
              "      <th>min</th>\n",
              "      <td>0.000000</td>\n",
              "      <td>-883.542316</td>\n",
              "      <td>-900.526951</td>\n",
              "      <td>-883.357762</td>\n",
              "      <td>-0.620748</td>\n",
              "      <td>-0.659921</td>\n",
              "      <td>-0.612709</td>\n",
              "      <td>NaN</td>\n",
              "      <td>NaN</td>\n",
              "    </tr>\n",
              "    <tr>\n",
              "      <th>25%</th>\n",
              "      <td>0.000000</td>\n",
              "      <td>-64.348986</td>\n",
              "      <td>-51.421937</td>\n",
              "      <td>-54.562257</td>\n",
              "      <td>-0.237610</td>\n",
              "      <td>-0.313721</td>\n",
              "      <td>-0.278951</td>\n",
              "      <td>NaN</td>\n",
              "      <td>NaN</td>\n",
              "    </tr>\n",
              "    <tr>\n",
              "      <th>50%</th>\n",
              "      <td>0.000000</td>\n",
              "      <td>-3.239788</td>\n",
              "      <td>4.711283</td>\n",
              "      <td>-0.399419</td>\n",
              "      <td>0.002465</td>\n",
              "      <td>-0.007192</td>\n",
              "      <td>0.008381</td>\n",
              "      <td>NaN</td>\n",
              "      <td>NaN</td>\n",
              "    </tr>\n",
              "    <tr>\n",
              "      <th>75%</th>\n",
              "      <td>1.000000</td>\n",
              "      <td>53.823453</td>\n",
              "      <td>69.637787</td>\n",
              "      <td>45.274542</td>\n",
              "      <td>0.285078</td>\n",
              "      <td>0.248681</td>\n",
              "      <td>0.289681</td>\n",
              "      <td>NaN</td>\n",
              "      <td>NaN</td>\n",
              "    </tr>\n",
              "    <tr>\n",
              "      <th>max</th>\n",
              "      <td>1.000000</td>\n",
              "      <td>885.738571</td>\n",
              "      <td>889.868884</td>\n",
              "      <td>901.274261</td>\n",
              "      <td>0.609864</td>\n",
              "      <td>0.627875</td>\n",
              "      <td>0.608243</td>\n",
              "      <td>NaN</td>\n",
              "      <td>NaN</td>\n",
              "    </tr>\n",
              "  </tbody>\n",
              "</table>\n",
              "</div>\n",
              "      <button class=\"colab-df-convert\" onclick=\"convertToInteractive('df-b32afbcb-979a-4776-a828-b33f263a1a2c')\"\n",
              "              title=\"Convert this dataframe to an interactive table.\"\n",
              "              style=\"display:none;\">\n",
              "        \n",
              "  <svg xmlns=\"http://www.w3.org/2000/svg\" height=\"24px\"viewBox=\"0 0 24 24\"\n",
              "       width=\"24px\">\n",
              "    <path d=\"M0 0h24v24H0V0z\" fill=\"none\"/>\n",
              "    <path d=\"M18.56 5.44l.94 2.06.94-2.06 2.06-.94-2.06-.94-.94-2.06-.94 2.06-2.06.94zm-11 1L8.5 8.5l.94-2.06 2.06-.94-2.06-.94L8.5 2.5l-.94 2.06-2.06.94zm10 10l.94 2.06.94-2.06 2.06-.94-2.06-.94-.94-2.06-.94 2.06-2.06.94z\"/><path d=\"M17.41 7.96l-1.37-1.37c-.4-.4-.92-.59-1.43-.59-.52 0-1.04.2-1.43.59L10.3 9.45l-7.72 7.72c-.78.78-.78 2.05 0 2.83L4 21.41c.39.39.9.59 1.41.59.51 0 1.02-.2 1.41-.59l7.78-7.78 2.81-2.81c.8-.78.8-2.07 0-2.86zM5.41 20L4 18.59l7.72-7.72 1.47 1.35L5.41 20z\"/>\n",
              "  </svg>\n",
              "      </button>\n",
              "      \n",
              "  <style>\n",
              "    .colab-df-container {\n",
              "      display:flex;\n",
              "      flex-wrap:wrap;\n",
              "      gap: 12px;\n",
              "    }\n",
              "\n",
              "    .colab-df-convert {\n",
              "      background-color: #E8F0FE;\n",
              "      border: none;\n",
              "      border-radius: 50%;\n",
              "      cursor: pointer;\n",
              "      display: none;\n",
              "      fill: #1967D2;\n",
              "      height: 32px;\n",
              "      padding: 0 0 0 0;\n",
              "      width: 32px;\n",
              "    }\n",
              "\n",
              "    .colab-df-convert:hover {\n",
              "      background-color: #E2EBFA;\n",
              "      box-shadow: 0px 1px 2px rgba(60, 64, 67, 0.3), 0px 1px 3px 1px rgba(60, 64, 67, 0.15);\n",
              "      fill: #174EA6;\n",
              "    }\n",
              "\n",
              "    [theme=dark] .colab-df-convert {\n",
              "      background-color: #3B4455;\n",
              "      fill: #D2E3FC;\n",
              "    }\n",
              "\n",
              "    [theme=dark] .colab-df-convert:hover {\n",
              "      background-color: #434B5C;\n",
              "      box-shadow: 0px 1px 3px 1px rgba(0, 0, 0, 0.15);\n",
              "      filter: drop-shadow(0px 1px 2px rgba(0, 0, 0, 0.3));\n",
              "      fill: #FFFFFF;\n",
              "    }\n",
              "  </style>\n",
              "\n",
              "      <script>\n",
              "        const buttonEl =\n",
              "          document.querySelector('#df-b32afbcb-979a-4776-a828-b33f263a1a2c button.colab-df-convert');\n",
              "        buttonEl.style.display =\n",
              "          google.colab.kernel.accessAllowed ? 'block' : 'none';\n",
              "\n",
              "        async function convertToInteractive(key) {\n",
              "          const element = document.querySelector('#df-b32afbcb-979a-4776-a828-b33f263a1a2c');\n",
              "          const dataTable =\n",
              "            await google.colab.kernel.invokeFunction('convertToInteractive',\n",
              "                                                     [key], {});\n",
              "          if (!dataTable) return;\n",
              "\n",
              "          const docLinkHtml = 'Like what you see? Visit the ' +\n",
              "            '<a target=\"_blank\" href=https://colab.research.google.com/notebooks/data_table.ipynb>data table notebook</a>'\n",
              "            + ' to learn more about interactive tables.';\n",
              "          element.innerHTML = '';\n",
              "          dataTable['output_type'] = 'display_data';\n",
              "          await google.colab.output.renderOutput(dataTable, element);\n",
              "          const docLink = document.createElement('div');\n",
              "          docLink.innerHTML = docLinkHtml;\n",
              "          element.appendChild(docLink);\n",
              "        }\n",
              "      </script>\n",
              "    </div>\n",
              "  </div>\n",
              "  "
            ]
          },
          "metadata": {},
          "execution_count": 9
        }
      ],
      "source": [
        "# For more information on the dataset like the total count in all the columns,min, max values\n",
        "\n",
        "data.describe()\n"
      ]
    },
    {
      "cell_type": "code",
      "execution_count": 10,
      "metadata": {
        "colab": {
          "base_uri": "https://localhost:8080/"
        },
        "id": "qR_KvwfZnqDh",
        "outputId": "1f99689a-458d-4919-8ea1-ebedb543cac8"
      },
      "outputs": [
        {
          "output_type": "execute_result",
          "data": {
            "text/plain": [
              "Output (S)        0\n",
              "Ia                0\n",
              "Ib                0\n",
              "Ic                0\n",
              "Va                0\n",
              "Vb                0\n",
              "Vc                0\n",
              "Unnamed: 7    12001\n",
              "Unnamed: 8    12001\n",
              "dtype: int64"
            ]
          },
          "metadata": {},
          "execution_count": 10
        }
      ],
      "source": [
        "# Missing values in all the columnns of the dataset\n",
        "\n",
        "data.isnull().sum()"
      ]
    },
    {
      "cell_type": "code",
      "execution_count": 11,
      "metadata": {
        "colab": {
          "base_uri": "https://localhost:8080/"
        },
        "id": "RHYBt6CzSn3L",
        "outputId": "e609d44d-d1b8-4e12-894f-4f0de04a6f8f"
      },
      "outputs": [
        {
          "output_type": "execute_result",
          "data": {
            "text/plain": [
              "Output (S)        2\n",
              "Ia            12001\n",
              "Ib            12001\n",
              "Ic            12001\n",
              "Va            11996\n",
              "Vb            11813\n",
              "Vc            11987\n",
              "Unnamed: 7        0\n",
              "Unnamed: 8        0\n",
              "dtype: int64"
            ]
          },
          "metadata": {},
          "execution_count": 11
        }
      ],
      "source": [
        "# Unique values of each column\n",
        "\n",
        "data.nunique()\n"
      ]
    },
    {
      "cell_type": "code",
      "execution_count": 69,
      "metadata": {
        "id": "kC38hVyv-fyX"
      },
      "outputs": [],
      "source": [
        "# dropping 'Unnamed: 7' and 'Unnamed: 8'\n",
        "\n",
        "data.drop(columns=['Unnamed: 7','Unnamed: 8'], inplace=True)"
      ]
    },
    {
      "cell_type": "code",
      "execution_count": 70,
      "metadata": {
        "colab": {
          "base_uri": "https://localhost:8080/"
        },
        "id": "Y3VNecxg-fuS",
        "outputId": "b9d7da67-957d-4387-b509-d6e4fdb70503"
      },
      "outputs": [
        {
          "output_type": "execute_result",
          "data": {
            "text/plain": [
              "0    6505\n",
              "1    5496\n",
              "Name: Output (S), dtype: int64"
            ]
          },
          "metadata": {},
          "execution_count": 70
        }
      ],
      "source": [
        "# checking total number of fault and no-fault instances\n",
        "\n",
        "data['Output (S)'].value_counts()"
      ]
    },
    {
      "cell_type": "markdown",
      "metadata": {
        "id": "2tYBYcVMTXOe"
      },
      "source": [
        "# Correlation Matrix"
      ]
    },
    {
      "cell_type": "code",
      "execution_count": 71,
      "metadata": {
        "colab": {
          "base_uri": "https://localhost:8080/",
          "height": 304
        },
        "id": "Txt0Rpe4CS_v",
        "outputId": "d91d68ea-3234-482a-e76b-154dd49dfbcc"
      },
      "outputs": [
        {
          "output_type": "stream",
          "name": "stderr",
          "text": [
            "/usr/local/lib/python3.7/dist-packages/ipykernel_launcher.py:4: FutureWarning: this method is deprecated in favour of `Styler.format(precision=..)`\n",
            "  after removing the cwd from sys.path.\n"
          ]
        },
        {
          "output_type": "execute_result",
          "data": {
            "text/plain": [
              "<pandas.io.formats.style.Styler at 0x7f630e3da410>"
            ],
            "text/html": [
              "<style type=\"text/css\">\n",
              "#T_6a97f_row0_col0, #T_6a97f_row1_col1, #T_6a97f_row2_col2, #T_6a97f_row3_col3, #T_6a97f_row4_col4, #T_6a97f_row5_col5, #T_6a97f_row6_col6 {\n",
              "  background-color: #b40426;\n",
              "  color: #f1f1f1;\n",
              "}\n",
              "#T_6a97f_row0_col1 {\n",
              "  background-color: #9fbfff;\n",
              "  color: #000000;\n",
              "}\n",
              "#T_6a97f_row0_col2 {\n",
              "  background-color: #90b2fe;\n",
              "  color: #000000;\n",
              "}\n",
              "#T_6a97f_row0_col3 {\n",
              "  background-color: #c7d7f0;\n",
              "  color: #000000;\n",
              "}\n",
              "#T_6a97f_row0_col4 {\n",
              "  background-color: #a3c2fe;\n",
              "  color: #000000;\n",
              "}\n",
              "#T_6a97f_row0_col5 {\n",
              "  background-color: #afcafc;\n",
              "  color: #000000;\n",
              "}\n",
              "#T_6a97f_row0_col6, #T_6a97f_row1_col4 {\n",
              "  background-color: #b2ccfb;\n",
              "  color: #000000;\n",
              "}\n",
              "#T_6a97f_row1_col0 {\n",
              "  background-color: #6b8df0;\n",
              "  color: #f1f1f1;\n",
              "}\n",
              "#T_6a97f_row1_col2 {\n",
              "  background-color: #5977e3;\n",
              "  color: #f1f1f1;\n",
              "}\n",
              "#T_6a97f_row1_col3 {\n",
              "  background-color: #6f92f3;\n",
              "  color: #f1f1f1;\n",
              "}\n",
              "#T_6a97f_row1_col5 {\n",
              "  background-color: #88abfd;\n",
              "  color: #000000;\n",
              "}\n",
              "#T_6a97f_row1_col6 {\n",
              "  background-color: #c9d7f0;\n",
              "  color: #000000;\n",
              "}\n",
              "#T_6a97f_row2_col0, #T_6a97f_row2_col1, #T_6a97f_row2_col3, #T_6a97f_row3_col2, #T_6a97f_row5_col4, #T_6a97f_row5_col6, #T_6a97f_row6_col5 {\n",
              "  background-color: #3b4cc0;\n",
              "  color: #f1f1f1;\n",
              "}\n",
              "#T_6a97f_row2_col4 {\n",
              "  background-color: #a5c3fe;\n",
              "  color: #000000;\n",
              "}\n",
              "#T_6a97f_row2_col5 {\n",
              "  background-color: #b5cdfa;\n",
              "  color: #000000;\n",
              "}\n",
              "#T_6a97f_row2_col6 {\n",
              "  background-color: #abc8fd;\n",
              "  color: #000000;\n",
              "}\n",
              "#T_6a97f_row3_col0 {\n",
              "  background-color: #84a7fc;\n",
              "  color: #f1f1f1;\n",
              "}\n",
              "#T_6a97f_row3_col1 {\n",
              "  background-color: #506bda;\n",
              "  color: #f1f1f1;\n",
              "}\n",
              "#T_6a97f_row3_col4 {\n",
              "  background-color: #aac7fd;\n",
              "  color: #000000;\n",
              "}\n",
              "#T_6a97f_row3_col5 {\n",
              "  background-color: #97b8ff;\n",
              "  color: #000000;\n",
              "}\n",
              "#T_6a97f_row3_col6 {\n",
              "  background-color: #c3d5f4;\n",
              "  color: #000000;\n",
              "}\n",
              "#T_6a97f_row4_col0 {\n",
              "  background-color: #5572df;\n",
              "  color: #f1f1f1;\n",
              "}\n",
              "#T_6a97f_row4_col1 {\n",
              "  background-color: #9dbdff;\n",
              "  color: #000000;\n",
              "}\n",
              "#T_6a97f_row4_col2 {\n",
              "  background-color: #a9c6fd;\n",
              "  color: #000000;\n",
              "}\n",
              "#T_6a97f_row4_col3 {\n",
              "  background-color: #aec9fc;\n",
              "  color: #000000;\n",
              "}\n",
              "#T_6a97f_row4_col5 {\n",
              "  background-color: #3d50c3;\n",
              "  color: #f1f1f1;\n",
              "}\n",
              "#T_6a97f_row4_col6 {\n",
              "  background-color: #445acc;\n",
              "  color: #f1f1f1;\n",
              "}\n",
              "#T_6a97f_row5_col0 {\n",
              "  background-color: #6384eb;\n",
              "  color: #f1f1f1;\n",
              "}\n",
              "#T_6a97f_row5_col1 {\n",
              "  background-color: #6c8ff1;\n",
              "  color: #f1f1f1;\n",
              "}\n",
              "#T_6a97f_row5_col2, #T_6a97f_row6_col1 {\n",
              "  background-color: #b6cefa;\n",
              "  color: #000000;\n",
              "}\n",
              "#T_6a97f_row5_col3 {\n",
              "  background-color: #98b9ff;\n",
              "  color: #000000;\n",
              "}\n",
              "#T_6a97f_row6_col0 {\n",
              "  background-color: #6687ed;\n",
              "  color: #f1f1f1;\n",
              "}\n",
              "#T_6a97f_row6_col2 {\n",
              "  background-color: #adc9fd;\n",
              "  color: #000000;\n",
              "}\n",
              "#T_6a97f_row6_col3 {\n",
              "  background-color: #c4d5f3;\n",
              "  color: #000000;\n",
              "}\n",
              "#T_6a97f_row6_col4 {\n",
              "  background-color: #4257c9;\n",
              "  color: #f1f1f1;\n",
              "}\n",
              "</style>\n",
              "<table id=\"T_6a97f_\" class=\"dataframe\">\n",
              "  <thead>\n",
              "    <tr>\n",
              "      <th class=\"blank level0\" >&nbsp;</th>\n",
              "      <th class=\"col_heading level0 col0\" >Output (S)</th>\n",
              "      <th class=\"col_heading level0 col1\" >Ia</th>\n",
              "      <th class=\"col_heading level0 col2\" >Ib</th>\n",
              "      <th class=\"col_heading level0 col3\" >Ic</th>\n",
              "      <th class=\"col_heading level0 col4\" >Va</th>\n",
              "      <th class=\"col_heading level0 col5\" >Vb</th>\n",
              "      <th class=\"col_heading level0 col6\" >Vc</th>\n",
              "    </tr>\n",
              "  </thead>\n",
              "  <tbody>\n",
              "    <tr>\n",
              "      <th id=\"T_6a97f_level0_row0\" class=\"row_heading level0 row0\" >Output (S)</th>\n",
              "      <td id=\"T_6a97f_row0_col0\" class=\"data row0 col0\" >1.00</td>\n",
              "      <td id=\"T_6a97f_row0_col1\" class=\"data row0 col1\" >0.04</td>\n",
              "      <td id=\"T_6a97f_row0_col2\" class=\"data row0 col2\" >-0.13</td>\n",
              "      <td id=\"T_6a97f_row0_col3\" class=\"data row0 col3\" >0.12</td>\n",
              "      <td id=\"T_6a97f_row0_col4\" class=\"data row0 col4\" >-0.04</td>\n",
              "      <td id=\"T_6a97f_row0_col5\" class=\"data row0 col5\" >0.01</td>\n",
              "      <td id=\"T_6a97f_row0_col6\" class=\"data row0 col6\" >0.02</td>\n",
              "    </tr>\n",
              "    <tr>\n",
              "      <th id=\"T_6a97f_level0_row1\" class=\"row_heading level0 row1\" >Ia</th>\n",
              "      <td id=\"T_6a97f_row1_col0\" class=\"data row1 col0\" >0.04</td>\n",
              "      <td id=\"T_6a97f_row1_col1\" class=\"data row1 col1\" >1.00</td>\n",
              "      <td id=\"T_6a97f_row1_col2\" class=\"data row1 col2\" >-0.38</td>\n",
              "      <td id=\"T_6a97f_row1_col3\" class=\"data row1 col3\" >-0.28</td>\n",
              "      <td id=\"T_6a97f_row1_col4\" class=\"data row1 col4\" >0.03</td>\n",
              "      <td id=\"T_6a97f_row1_col5\" class=\"data row1 col5\" >-0.16</td>\n",
              "      <td id=\"T_6a97f_row1_col6\" class=\"data row1 col6\" >0.13</td>\n",
              "    </tr>\n",
              "    <tr>\n",
              "      <th id=\"T_6a97f_level0_row2\" class=\"row_heading level0 row2\" >Ib</th>\n",
              "      <td id=\"T_6a97f_row2_col0\" class=\"data row2 col0\" >-0.13</td>\n",
              "      <td id=\"T_6a97f_row2_col1\" class=\"data row2 col1\" >-0.38</td>\n",
              "      <td id=\"T_6a97f_row2_col2\" class=\"data row2 col2\" >1.00</td>\n",
              "      <td id=\"T_6a97f_row2_col3\" class=\"data row2 col3\" >-0.53</td>\n",
              "      <td id=\"T_6a97f_row2_col4\" class=\"data row2 col4\" >-0.03</td>\n",
              "      <td id=\"T_6a97f_row2_col5\" class=\"data row2 col5\" >0.03</td>\n",
              "      <td id=\"T_6a97f_row2_col6\" class=\"data row2 col6\" >-0.01</td>\n",
              "    </tr>\n",
              "    <tr>\n",
              "      <th id=\"T_6a97f_level0_row3\" class=\"row_heading level0 row3\" >Ic</th>\n",
              "      <td id=\"T_6a97f_row3_col0\" class=\"data row3 col0\" >0.12</td>\n",
              "      <td id=\"T_6a97f_row3_col1\" class=\"data row3 col1\" >-0.28</td>\n",
              "      <td id=\"T_6a97f_row3_col2\" class=\"data row3 col2\" >-0.53</td>\n",
              "      <td id=\"T_6a97f_row3_col3\" class=\"data row3 col3\" >1.00</td>\n",
              "      <td id=\"T_6a97f_row3_col4\" class=\"data row3 col4\" >-0.00</td>\n",
              "      <td id=\"T_6a97f_row3_col5\" class=\"data row3 col5\" >-0.10</td>\n",
              "      <td id=\"T_6a97f_row3_col6\" class=\"data row3 col6\" >0.10</td>\n",
              "    </tr>\n",
              "    <tr>\n",
              "      <th id=\"T_6a97f_level0_row4\" class=\"row_heading level0 row4\" >Va</th>\n",
              "      <td id=\"T_6a97f_row4_col0\" class=\"data row4 col0\" >-0.04</td>\n",
              "      <td id=\"T_6a97f_row4_col1\" class=\"data row4 col1\" >0.03</td>\n",
              "      <td id=\"T_6a97f_row4_col2\" class=\"data row4 col2\" >-0.03</td>\n",
              "      <td id=\"T_6a97f_row4_col3\" class=\"data row4 col3\" >-0.00</td>\n",
              "      <td id=\"T_6a97f_row4_col4\" class=\"data row4 col4\" >1.00</td>\n",
              "      <td id=\"T_6a97f_row4_col5\" class=\"data row4 col5\" >-0.51</td>\n",
              "      <td id=\"T_6a97f_row4_col6\" class=\"data row4 col6\" >-0.47</td>\n",
              "    </tr>\n",
              "    <tr>\n",
              "      <th id=\"T_6a97f_level0_row5\" class=\"row_heading level0 row5\" >Vb</th>\n",
              "      <td id=\"T_6a97f_row5_col0\" class=\"data row5 col0\" >0.01</td>\n",
              "      <td id=\"T_6a97f_row5_col1\" class=\"data row5 col1\" >-0.16</td>\n",
              "      <td id=\"T_6a97f_row5_col2\" class=\"data row5 col2\" >0.03</td>\n",
              "      <td id=\"T_6a97f_row5_col3\" class=\"data row5 col3\" >-0.10</td>\n",
              "      <td id=\"T_6a97f_row5_col4\" class=\"data row5 col4\" >-0.51</td>\n",
              "      <td id=\"T_6a97f_row5_col5\" class=\"data row5 col5\" >1.00</td>\n",
              "      <td id=\"T_6a97f_row5_col6\" class=\"data row5 col6\" >-0.52</td>\n",
              "    </tr>\n",
              "    <tr>\n",
              "      <th id=\"T_6a97f_level0_row6\" class=\"row_heading level0 row6\" >Vc</th>\n",
              "      <td id=\"T_6a97f_row6_col0\" class=\"data row6 col0\" >0.02</td>\n",
              "      <td id=\"T_6a97f_row6_col1\" class=\"data row6 col1\" >0.13</td>\n",
              "      <td id=\"T_6a97f_row6_col2\" class=\"data row6 col2\" >-0.01</td>\n",
              "      <td id=\"T_6a97f_row6_col3\" class=\"data row6 col3\" >0.10</td>\n",
              "      <td id=\"T_6a97f_row6_col4\" class=\"data row6 col4\" >-0.47</td>\n",
              "      <td id=\"T_6a97f_row6_col5\" class=\"data row6 col5\" >-0.52</td>\n",
              "      <td id=\"T_6a97f_row6_col6\" class=\"data row6 col6\" >1.00</td>\n",
              "    </tr>\n",
              "  </tbody>\n",
              "</table>\n"
            ]
          },
          "metadata": {},
          "execution_count": 71
        }
      ],
      "source": [
        "# Using pandas\n",
        "\n",
        "corr = data.corr()\n",
        "corr.style.background_gradient(cmap='coolwarm').set_precision(2)"
      ]
    },
    {
      "cell_type": "markdown",
      "metadata": {
        "id": "XnEsWEEsTm-T"
      },
      "source": [
        "# Histogram"
      ]
    },
    {
      "cell_type": "code",
      "execution_count": 18,
      "metadata": {
        "colab": {
          "base_uri": "https://localhost:8080/",
          "height": 772
        },
        "id": "IQ2N-BOlCS-X",
        "outputId": "c9274e2d-5c5c-496a-dffc-13104dc3acd9"
      },
      "outputs": [
        {
          "output_type": "display_data",
          "data": {
            "text/plain": [
              "<Figure size 2160x1152 with 9 Axes>"
            ],
            "image/png": "[encoded data removed]"
          },
          "metadata": {
            "needs_background": "light"
          }
        }
      ],
      "source": [
        "# Histogram using pandas \n",
        "\n",
        "data.hist(figsize=(30,16));"
      ]
    },
    {
      "cell_type": "markdown",
      "metadata": {
        "id": "A9lQc6G_T6le"
      },
      "source": [
        "### Count plot"
      ]
    },
    {
      "cell_type": "code",
      "execution_count": 25,
      "metadata": {
        "colab": {
          "base_uri": "https://localhost:8080/",
          "height": 351
        },
        "id": "44nndj72Cjak",
        "outputId": "ea84eba3-5b32-44c0-b632-3376ec88c996"
      },
      "outputs": [
        {
          "output_type": "stream",
          "name": "stderr",
          "text": [
            "/usr/local/lib/python3.7/dist-packages/seaborn/_decorators.py:43: FutureWarning: Pass the following variable as a keyword arg: x. From version 0.12, the only valid positional argument will be `data`, and passing other arguments without an explicit keyword will result in an error or misinterpretation.\n",
            "  FutureWarning\n"
          ]
        },
        {
          "output_type": "execute_result",
          "data": {
            "text/plain": [
              "<matplotlib.axes._subplots.AxesSubplot at 0x7f631203f0d0>"
            ]
          },
          "metadata": {},
          "execution_count": 25
        },
        {
          "output_type": "display_data",
          "data": {
            "text/plain": [
              "<Figure size 432x288 with 1 Axes>"
            ],
            "image/png": "[encoded data removed]"
          },
          "metadata": {
            "needs_background": "light"
          }
        }
      ],
      "source": [
        "# count plot of Output (S) column\n",
        "\n",
        "sns.countplot(data['Output (S)'])\n"
      ]
    },
    {
      "cell_type": "markdown",
      "metadata": {
        "id": "TqaIURlaT_e2"
      },
      "source": [
        "# Box plot"
      ]
    },
    {
      "cell_type": "code",
      "execution_count": 26,
      "metadata": {
        "colab": {
          "base_uri": "https://localhost:8080/",
          "height": 537
        },
        "id": "OwU1rU-KCjDn",
        "outputId": "d2f0ba9d-831a-4ed1-941d-7652fd9c642f"
      },
      "outputs": [
        {
          "output_type": "display_data",
          "data": {
            "text/plain": [
              "<Figure size 1440x648 with 1 Axes>"
            ],
            "image/png": "[encoded data removed]"
          },
          "metadata": {
            "needs_background": "light"
          }
        }
      ],
      "source": [
        "# box plot using pandas \n",
        "# box plot for Output (S) column \n",
        "\n",
        "plt.figure(figsize=(20,9))\n",
        "plt.boxplot(x=data['Output (S)']);\n"
      ]
    },
    {
      "cell_type": "code",
      "execution_count": 27,
      "metadata": {
        "colab": {
          "base_uri": "https://localhost:8080/",
          "height": 537
        },
        "id": "Ri4cEZKrDDk1",
        "outputId": "78c7d415-ed39-4a4a-d784-3e9449329645"
      },
      "outputs": [
        {
          "output_type": "display_data",
          "data": {
            "text/plain": [
              "<Figure size 1440x648 with 1 Axes>"
            ],
            "image/png": "[encoded data removed]"
          },
          "metadata": {
            "needs_background": "light"
          }
        }
      ],
      "source": [
        "# box plot using pandas \n",
        "# box plot for Ia column \n",
        "\n",
        "plt.figure(figsize=(20,9))\n",
        "plt.boxplot(x=data['Ia']);"
      ]
    },
    {
      "cell_type": "code",
      "execution_count": 28,
      "metadata": {
        "colab": {
          "base_uri": "https://localhost:8080/",
          "height": 537
        },
        "id": "iATUk1TjDDiU",
        "outputId": "a83776dd-0bb1-49fb-c8d1-6c5ebf8ed158"
      },
      "outputs": [
        {
          "output_type": "display_data",
          "data": {
            "text/plain": [
              "<Figure size 1440x648 with 1 Axes>"
            ],
            "image/png": "[encoded data removed]"
          },
          "metadata": {
            "needs_background": "light"
          }
        }
      ],
      "source": [
        "# box plot using pandas \n",
        "# box plot for Ib column \n",
        "\n",
        "plt.figure(figsize=(20,9))\n",
        "plt.boxplot(x=data['Ib']);"
      ]
    },
    {
      "cell_type": "code",
      "execution_count": 29,
      "metadata": {
        "colab": {
          "base_uri": "https://localhost:8080/",
          "height": 537
        },
        "id": "rJQv1P0hDDe2",
        "outputId": "add1f279-454a-447a-bca7-bfba63d9f75e"
      },
      "outputs": [
        {
          "output_type": "display_data",
          "data": {
            "text/plain": [
              "<Figure size 1440x648 with 1 Axes>"
            ],
            "image/png": "[encoded data removed]"
          },
          "metadata": {
            "needs_background": "light"
          }
        }
      ],
      "source": [
        "# box plot using pandas \n",
        "# box plot for Ic column \n",
        "\n",
        "plt.figure(figsize=(20,9))\n",
        "plt.boxplot(x=data['Ic']);"
      ]
    },
    {
      "cell_type": "code",
      "execution_count": 30,
      "metadata": {
        "colab": {
          "base_uri": "https://localhost:8080/",
          "height": 537
        },
        "id": "26iWjxk3DDdf",
        "outputId": "5e246c11-58a8-4255-90fb-ddb2765415a8"
      },
      "outputs": [
        {
          "output_type": "display_data",
          "data": {
            "text/plain": [
              "<Figure size 1440x648 with 1 Axes>"
            ],
            "image/png": "[encoded data removed]"
          },
          "metadata": {
            "needs_background": "light"
          }
        }
      ],
      "source": [
        "# box plot using pandas \n",
        "# box plot for Va column \n",
        "\n",
        "plt.figure(figsize=(20,9))\n",
        "plt.boxplot(x=data['Va']);"
      ]
    },
    {
      "cell_type": "code",
      "execution_count": 72,
      "metadata": {
        "colab": {
          "base_uri": "https://localhost:8080/",
          "height": 537
        },
        "id": "OqafrG7oDDa8",
        "outputId": "38b26adc-2d71-4947-cefd-c7ed632861d3"
      },
      "outputs": [
        {
          "output_type": "display_data",
          "data": {
            "text/plain": [
              "<Figure size 1440x648 with 1 Axes>"
            ],
            "image/png": "[encoded data removed]"
          },
          "metadata": {
            "needs_background": "light"
          }
        }
      ],
      "source": [
        "# box plot using pandas \n",
        "# box plot for Vb column \n",
        "\n",
        "plt.figure(figsize=(20,9))\n",
        "plt.boxplot(x=data['Vb']);"
      ]
    },
    {
      "cell_type": "code",
      "execution_count": 31,
      "metadata": {
        "colab": {
          "base_uri": "https://localhost:8080/",
          "height": 537
        },
        "id": "k0ZMrofFDDYt",
        "outputId": "eecd698a-fadf-4b9a-8898-348d9d641173"
      },
      "outputs": [
        {
          "output_type": "display_data",
          "data": {
            "text/plain": [
              "<Figure size 1440x648 with 1 Axes>"
            ],
            "image/png": "[encoded data removed]"
          },
          "metadata": {
            "needs_background": "light"
          }
        }
      ],
      "source": [
        "# box plot using pandas \n",
        "# box plot for Vc column \n",
        "\n",
        "plt.figure(figsize=(20,9))\n",
        "plt.boxplot(x=data['Vc']);"
      ]
    },
    {
      "cell_type": "markdown",
      "metadata": {
        "id": "jh9Q36xXZAeq"
      },
      "source": [
        "Dataset is balanced and not skewed in nature"
      ]
    },
    {
      "cell_type": "markdown",
      "metadata": {
        "id": "VoN41RlaUG_Y"
      },
      "source": [
        "# Dendrogram"
      ]
    },
    {
      "cell_type": "code",
      "execution_count": 49,
      "metadata": {
        "colab": {
          "base_uri": "https://localhost:8080/",
          "height": 592
        },
        "id": "_r5MsTqWDDU-",
        "outputId": "e4e9a3f6-0fc5-4ce1-a1df-6da558fffaac"
      },
      "outputs": [
        {
          "output_type": "display_data",
          "data": {
            "text/plain": [
              "<Figure size 1152x720 with 1 Axes>"
            ],
            "image/png": "[encoded data removed]"
          },
          "metadata": {
            "needs_background": "light"
          }
        }
      ],
      "source": [
        "X = data.dropna()\n",
        "\n",
        "import scipy\n",
        "from scipy.cluster import hierarchy as hc\n",
        "\n",
        "corr = np.round(scipy.stats.spearmanr(X).correlation, 4)\n",
        "corr_condensed = hc.distance.squareform(1-corr)\n",
        "z = hc.linkage(corr_condensed, method='average')\n",
        "fig = plt.figure(figsize=(16,10))\n",
        "dendrogram = hc.dendrogram(z,labels=X.columns, orientation='left', leaf_font_size=16)\n",
        "plt.show()\n"
      ]
    },
    {
      "cell_type": "markdown",
      "metadata": {
        "id": "iNvxoKcNUX3H"
      },
      "source": [
        "# Preprocessing, Modeling and prediction on test data"
      ]
    },
    {
      "cell_type": "code",
      "execution_count": 85,
      "metadata": {
        "colab": {
          "base_uri": "https://localhost:8080/"
        },
        "id": "all5bN2N-fou",
        "outputId": "fe1cb72f-a224-424a-b148-5bc6a7e62121"
      },
      "outputs": [
        {
          "output_type": "stream",
          "name": "stdout",
          "text": [
            "(12001, 6) (12001,)\n"
          ]
        }
      ],
      "source": [
        "X = data.drop(columns=['Output (S)'])\n",
        "y = data['Output (S)']\n",
        "\n",
        "print(X.shape, y.shape)"
      ]
    },
    {
      "cell_type": "code",
      "execution_count": 86,
      "metadata": {
        "colab": {
          "base_uri": "https://localhost:8080/"
        },
        "id": "6-r_W-3k-flM",
        "outputId": "5a1f81d2-df50-4349-daac-1206e321453d"
      },
      "outputs": [
        {
          "output_type": "stream",
          "name": "stdout",
          "text": [
            "(9600, 6) (9600,)\n",
            "(2401, 6) (2401,)\n"
          ]
        }
      ],
      "source": [
        "from sklearn.model_selection import train_test_split\n",
        "\n",
        "X_train, X_test, y_train, y_test =  train_test_split(X,y, test_size = 0.2, random_state = 123)\n",
        "\n",
        "print(X_train.shape, y_train.shape)\n",
        "\n",
        "print(X_test.shape , y_test.shape)"
      ]
    },
    {
      "cell_type": "markdown",
      "metadata": {
        "id": "JZ5YmmuoUk_8"
      },
      "source": [
        "### Scaling"
      ]
    },
    {
      "cell_type": "code",
      "execution_count": 87,
      "metadata": {
        "id": "HQmvIGL8-fj_"
      },
      "outputs": [],
      "source": [
        "from sklearn.preprocessing import MinMaxScaler\n",
        "\n",
        "scaled = MinMaxScaler()\n",
        "\n",
        "X_train = scaled.fit_transform(X_train)\n",
        "\n",
        "X_test = scaled.transform(X_test)\n"
      ]
    },
    {
      "cell_type": "code",
      "execution_count": 76,
      "metadata": {
        "id": "UZCxM1BcwbFT"
      },
      "outputs": [],
      "source": [
        "def visualize_importance(feature_importances, feat_train_df):\n",
        "\n",
        "  # creating dataframe for feature name and feature importance\n",
        "  feature_importance_df = pd.DataFrame()\n",
        "\n",
        "  _df = pd.DataFrame()\n",
        "  _df['feature_importance'] = feature_importances\n",
        "  _df['column'] = feat_train_df.columns\n",
        "  feature_importance_df = pd.concat([feature_importance_df, _df], \n",
        "                                    axis=0, ignore_index=True)\n",
        "  \n",
        "\n",
        "  # grouping all data and sorting in descending order\n",
        "  order = feature_importance_df.groupby('column')\\\n",
        "      .sum()[['feature_importance']]\\\n",
        "      .sort_values('feature_importance', ascending=False).index[:50]\n",
        "\n",
        "  # ploting feature importance data using boxenplot\n",
        "  fig, ax = plt.subplots(figsize=(8, max(6, len(order)* .25)))\n",
        "  sns.boxenplot(data=feature_importance_df, x='feature_importance', y='column', order=order, ax=ax, palette='viridis', orient='h')\n",
        "  ax.tick_params(axis='x', rotation =0)\n",
        "  ax.set_title('Importance')\n",
        "  ax.grid()\n",
        "  fig.tight_layout()\n",
        "\n",
        "  return fig, ax\n",
        "\n",
        "\n"
      ]
    },
    {
      "cell_type": "code",
      "execution_count": 90,
      "metadata": {
        "id": "D10N3U1lLxQB"
      },
      "outputs": [],
      "source": [
        "from sklearn.metrics import accuracy_score, precision_score, confusion_matrix, recall_score\n",
        "\n",
        "import sklearn.metrics as metrics"
      ]
    },
    {
      "cell_type": "markdown",
      "metadata": {
        "id": "TX3S-qx5Uvzq"
      },
      "source": [
        "## LogisticRegression"
      ]
    },
    {
      "cell_type": "code",
      "execution_count": 91,
      "metadata": {
        "colab": {
          "base_uri": "https://localhost:8080/",
          "height": 883
        },
        "id": "z8IKjUjhwbAt",
        "outputId": "51cc76e5-9484-4cdc-ad60-530142b8148a"
      },
      "outputs": [
        {
          "output_type": "stream",
          "name": "stdout",
          "text": [
            "accuracy score: 0.721366097459392\n",
            "precision score: 0.39347234814143245\n",
            "recall score: 1.0\n",
            "[[1298  669]\n",
            " [   0  434]]\n",
            "CPU times: user 241 ms, sys: 196 ms, total: 437 ms\n",
            "Wall time: 239 ms\n"
          ]
        },
        {
          "output_type": "stream",
          "name": "stderr",
          "text": [
            "/usr/local/lib/python3.7/dist-packages/sklearn/utils/deprecation.py:87: FutureWarning: Function plot_confusion_matrix is deprecated; Function `plot_confusion_matrix` is deprecated in 1.0 and will be removed in 1.2. Use one of the class methods: ConfusionMatrixDisplay.from_predictions or ConfusionMatrixDisplay.from_estimator.\n",
            "  warnings.warn(msg, category=FutureWarning)\n"
          ]
        },
        {
          "output_type": "display_data",
          "data": {
            "text/plain": [
              "<Figure size 576x432 with 1 Axes>"
            ],
            "image/png": "[encoded data removed]"
          },
          "metadata": {
            "needs_background": "light"
          }
        },
        {
          "output_type": "display_data",
          "data": {
            "text/plain": [
              "<Figure size 432x288 with 2 Axes>"
            ],
            "image/png": "[encoded data removed]"
          },
          "metadata": {
            "needs_background": "light"
          }
        }
      ],
      "source": [
        "%%time\n",
        "from sklearn.linear_model import LogisticRegression\n",
        "\n",
        "log = LogisticRegression()\n",
        "\n",
        "log.fit(X_train, y_train)\n",
        "\n",
        "y_pred_log = log.predict(X_test)\n",
        "\n",
        "print('accuracy score:', accuracy_score(y_pred_log, y_test))\n",
        "print('precision score:', precision_score(y_pred_log, y_test))\n",
        "print('recall score:', recall_score(y_pred_log, y_test))\n",
        "print(confusion_matrix(y_pred_log, y_test))\n",
        "\n",
        "fig, ax = visualize_importance(log.coef_[0], X)\n",
        "\n",
        "disp = metrics.plot_confusion_matrix(log, X_test, y_test, cmap=plt.cm.Blues, normalize ='true')"
      ]
    },
    {
      "cell_type": "markdown",
      "metadata": {
        "id": "jMuXcH7vU0lG"
      },
      "source": [
        "## RandomForestClassifier"
      ]
    },
    {
      "cell_type": "code",
      "execution_count": 94,
      "metadata": {
        "colab": {
          "base_uri": "https://localhost:8080/",
          "height": 883
        },
        "id": "orHP9CXNwa_b",
        "outputId": "97a2ec17-32d5-499d-90d0-324a44e8c4f9"
      },
      "outputs": [
        {
          "output_type": "stream",
          "name": "stdout",
          "text": [
            "accuracy score: 0.9979175343606831\n",
            "precision score: 1.0\n",
            "recall score: 0.9954873646209387\n",
            "[[1293    0]\n",
            " [   5 1103]]\n"
          ]
        },
        {
          "output_type": "stream",
          "name": "stderr",
          "text": [
            "/usr/local/lib/python3.7/dist-packages/sklearn/utils/deprecation.py:87: FutureWarning: Function plot_confusion_matrix is deprecated; Function `plot_confusion_matrix` is deprecated in 1.0 and will be removed in 1.2. Use one of the class methods: ConfusionMatrixDisplay.from_predictions or ConfusionMatrixDisplay.from_estimator.\n",
            "  warnings.warn(msg, category=FutureWarning)\n"
          ]
        },
        {
          "output_type": "stream",
          "name": "stdout",
          "text": [
            "CPU times: user 3.55 s, sys: 46.8 ms, total: 3.6 s\n",
            "Wall time: 5.37 s\n"
          ]
        },
        {
          "output_type": "display_data",
          "data": {
            "text/plain": [
              "<Figure size 576x432 with 1 Axes>"
            ],
            "image/png": "[encoded data removed]"
          },
          "metadata": {
            "needs_background": "light"
          }
        },
        {
          "output_type": "display_data",
          "data": {
            "text/plain": [
              "<Figure size 432x288 with 2 Axes>"
            ],
            "image/png": "[encoded data removed]"
          },
          "metadata": {
            "needs_background": "light"
          }
        }
      ],
      "source": [
        "%%time\n",
        "from sklearn.ensemble import RandomForestClassifier\n",
        "\n",
        "rf = RandomForestClassifier(n_estimators =200, max_depth=40)\n",
        "\n",
        "rf.fit(X_train, y_train)\n",
        "\n",
        "y_pred_rf = rf.predict(X_test)\n",
        "\n",
        "print('accuracy score:', accuracy_score(y_pred_rf, y_test))\n",
        "print('precision score:', precision_score(y_pred_rf, y_test))\n",
        "print('recall score:', recall_score(y_pred_rf, y_test))\n",
        "print(confusion_matrix(y_pred_rf, y_test))\n",
        "\n",
        "fig, ax = visualize_importance(rf.feature_importances_, X)\n",
        "\n",
        "disp = metrics.plot_confusion_matrix(rf, X_test, y_test, cmap=plt.cm.Blues, normalize ='true')"
      ]
    },
    {
      "cell_type": "markdown",
      "metadata": {
        "id": "boAQ9dIRU3Xd"
      },
      "source": [
        "## DecisionTreeClassifier"
      ]
    },
    {
      "cell_type": "code",
      "execution_count": 95,
      "metadata": {
        "colab": {
          "base_uri": "https://localhost:8080/",
          "height": 883
        },
        "id": "Hc3mwALPwa7-",
        "outputId": "2f7404fa-7ba4-4a5f-ba8b-fc258e8ed419"
      },
      "outputs": [
        {
          "output_type": "stream",
          "name": "stdout",
          "text": [
            "accuracy score: 0.9975010412328197\n",
            "precision score: 1.0\n",
            "recall score: 0.9945897204688909\n",
            "[[1292    0]\n",
            " [   6 1103]]\n"
          ]
        },
        {
          "output_type": "stream",
          "name": "stderr",
          "text": [
            "/usr/local/lib/python3.7/dist-packages/sklearn/utils/deprecation.py:87: FutureWarning: Function plot_confusion_matrix is deprecated; Function `plot_confusion_matrix` is deprecated in 1.0 and will be removed in 1.2. Use one of the class methods: ConfusionMatrixDisplay.from_predictions or ConfusionMatrixDisplay.from_estimator.\n",
            "  warnings.warn(msg, category=FutureWarning)\n"
          ]
        },
        {
          "output_type": "stream",
          "name": "stdout",
          "text": [
            "CPU times: user 239 ms, sys: 48.3 ms, total: 288 ms\n",
            "Wall time: 345 ms\n"
          ]
        },
        {
          "output_type": "display_data",
          "data": {
            "text/plain": [
              "<Figure size 576x432 with 1 Axes>"
            ],
            "image/png": "[encoded data removed]"
          },
          "metadata": {
            "needs_background": "light"
          }
        },
        {
          "output_type": "display_data",
          "data": {
            "text/plain": [
              "<Figure size 432x288 with 2 Axes>"
            ],
            "image/png": "[encoded data removed]"
          },
          "metadata": {
            "needs_background": "light"
          }
        }
      ],
      "source": [
        "%%time\n",
        "from sklearn.tree import DecisionTreeClassifier\n",
        "\n",
        "dt = DecisionTreeClassifier()\n",
        "\n",
        "dt.fit(X_train, y_train)\n",
        "\n",
        "y_pred_dt = dt.predict(X_test)\n",
        "\n",
        "print('accuracy score:', accuracy_score(y_pred_dt, y_test))\n",
        "print('precision score:', precision_score(y_pred_dt, y_test))\n",
        "print('recall score:', recall_score(y_pred_dt, y_test))\n",
        "print(confusion_matrix(y_pred_dt, y_test))\n",
        "\n",
        "fig, ax = visualize_importance(dt.feature_importances_, X)\n",
        "\n",
        "disp = metrics.plot_confusion_matrix(dt, X_test, y_test, cmap=plt.cm.Blues, normalize ='true')"
      ]
    },
    {
      "cell_type": "markdown",
      "metadata": {
        "id": "GManaGfgU7io"
      },
      "source": [
        "## GradientBoostingClassifier"
      ]
    },
    {
      "cell_type": "code",
      "execution_count": 96,
      "metadata": {
        "colab": {
          "base_uri": "https://localhost:8080/",
          "height": 879
        },
        "id": "yDuLFGFEwa6i",
        "outputId": "438642a0-2653-44fd-cd28-9768d72f373d"
      },
      "outputs": [
        {
          "output_type": "stream",
          "name": "stdout",
          "text": [
            "accuracy score: 0.9966680549770929\n",
            "precision score: 0.9963735267452403\n",
            "recall score: 0.9963735267452403\n",
            "[[1294    4]\n",
            " [   4 1099]]\n",
            "CPU times: user 2.37 s, sys: 48.8 ms, total: 2.42 s\n",
            "Wall time: 2.36 s\n"
          ]
        },
        {
          "output_type": "stream",
          "name": "stderr",
          "text": [
            "/usr/local/lib/python3.7/dist-packages/sklearn/utils/deprecation.py:87: FutureWarning: Function plot_confusion_matrix is deprecated; Function `plot_confusion_matrix` is deprecated in 1.0 and will be removed in 1.2. Use one of the class methods: ConfusionMatrixDisplay.from_predictions or ConfusionMatrixDisplay.from_estimator.\n",
            "  warnings.warn(msg, category=FutureWarning)\n"
          ]
        },
        {
          "output_type": "display_data",
          "data": {
            "text/plain": [
              "<Figure size 576x432 with 1 Axes>"
            ],
            "image/png": "[encoded data removed]"
          },
          "metadata": {
            "needs_background": "light"
          }
        },
        {
          "output_type": "display_data",
          "data": {
            "text/plain": [
              "<Figure size 432x288 with 2 Axes>"
            ],
            "image/png": "[encoded data removed]"
          },
          "metadata": {
            "needs_background": "light"
          }
        }
      ],
      "source": [
        "%%time\n",
        "from sklearn.ensemble import GradientBoostingClassifier\n",
        "\n",
        "GBR = GradientBoostingClassifier()\n",
        "\n",
        "GBR.fit(X_train, y_train)\n",
        "\n",
        "y_pred_GBR = GBR.predict(X_test)\n",
        "\n",
        "print('accuracy score:', accuracy_score(y_pred_GBR, y_test))\n",
        "print('precision score:', precision_score(y_pred_GBR, y_test))\n",
        "print('recall score:', recall_score(y_pred_GBR, y_test))\n",
        "print(confusion_matrix(y_pred_GBR, y_test))\n",
        "\n",
        "fig, ax = visualize_importance(GBR.feature_importances_, X)\n",
        "\n",
        "disp = metrics.plot_confusion_matrix(GBR, X_test, y_test, cmap=plt.cm.Blues, normalize ='true')"
      ]
    },
    {
      "cell_type": "markdown",
      "metadata": {
        "id": "h-SaINO6YrZe"
      },
      "source": [
        "## Hyper parameter tunning\n",
        "\n",
        "###RandomizedSearchCV\n"
      ]
    },
    {
      "cell_type": "code",
      "execution_count": 97,
      "metadata": {
        "id": "NOC29Wj5YbCO"
      },
      "outputs": [],
      "source": [
        "# Function to perform hyper parameter tunning with RandomizedSearchCV\n",
        "\n",
        "def random_Search(model,X_train, Y_train,param_grid):\n",
        "  from sklearn.model_selection import RandomizedSearchCV\n",
        "\n",
        "  random = RandomizedSearchCV(estimator=model, param_distributions=param_grid, n_iter=20, cv=3, verbose=2, random_state=42, n_jobs=-1)\n",
        "\n",
        "  random.fit(X_train, y_train)\n",
        "  \n",
        "  print(random.best_params_)\n"
      ]
    },
    {
      "cell_type": "code",
      "execution_count": 98,
      "metadata": {
        "id": "XFlw8BdEYcfC",
        "colab": {
          "base_uri": "https://localhost:8080/"
        },
        "outputId": "5639863f-afa7-43ef-f02b-e12ea1db8491"
      },
      "outputs": [
        {
          "output_type": "stream",
          "name": "stdout",
          "text": [
            "Fitting 3 folds for each of 20 candidates, totalling 60 fits\n",
            "{'n_estimators': 400, 'min_samples_split': 10, 'min_samples_leaf': 1, 'max_features': 'sqrt', 'max_depth': 70, 'bootstrap': False}\n",
            "CPU times: user 10.1 s, sys: 400 ms, total: 10.5 s\n",
            "Wall time: 8min 51s\n"
          ]
        }
      ],
      "source": [
        "%%time\n",
        "rf_para_grid = {'n_estimators': [int(x) for x in np.linspace(start=200,  stop=2000, num=10)],\n",
        "               'max_features': ['auto', 'sqrt'],\n",
        "               'max_depth': [int(x) for x in np.linspace(10,110, num=11)],\n",
        "                'min_samples_split' : [2,5,10],\n",
        "               'min_samples_leaf': [1,2,4],\n",
        "               'bootstrap': [True, False]}\n",
        "\n",
        "\n",
        "random_Search(RandomForestClassifier(), X_train, y_train, param_grid=rf_para_grid)\n",
        "\n",
        "\n"
      ]
    },
    {
      "cell_type": "markdown",
      "metadata": {
        "id": "cN05dpdgRQO_"
      },
      "source": [
        "### working with best model"
      ]
    },
    {
      "cell_type": "code",
      "execution_count": 99,
      "metadata": {
        "colab": {
          "base_uri": "https://localhost:8080/"
        },
        "id": "vh4AUr77wax5",
        "outputId": "a5ea4545-d434-494d-f76c-a36e837a7f2e"
      },
      "outputs": [
        {
          "output_type": "stream",
          "name": "stdout",
          "text": [
            "Area under ROC of Model On Test Set -99.81%\n"
          ]
        }
      ],
      "source": [
        "# Area under ROC of Model On Test Set\n",
        "\n",
        "score = metrics.roc_auc_score(y_test, y_pred_rf)\n",
        "\n",
        "print(f'Area under ROC of Model On Test Set -{score:,.2%}')"
      ]
    },
    {
      "cell_type": "code",
      "execution_count": 101,
      "metadata": {
        "id": "SkytbPoGwawF"
      },
      "outputs": [],
      "source": [
        "# Creating a dataframe with predicted result as data using best model\n",
        "\n",
        "predictions = pd.DataFrame(y_pred_rf)\n"
      ]
    },
    {
      "cell_type": "code",
      "execution_count": 102,
      "metadata": {
        "colab": {
          "base_uri": "https://localhost:8080/",
          "height": 206
        },
        "id": "bYNliUkEwaQ-",
        "outputId": "a8eee2c7-1323-4a56-d229-bd3da3df6caf"
      },
      "outputs": [
        {
          "output_type": "execute_result",
          "data": {
            "text/plain": [
              "   0\n",
              "0  0\n",
              "1  1\n",
              "2  0\n",
              "3  0\n",
              "4  0"
            ],
            "text/html": [
              "\n",
              "  <div id=\"df-50843fd7-9a10-4b9c-a70d-3f62907b0ab8\">\n",
              "    <div class=\"colab-df-container\">\n",
              "      <div>\n",
              "<style scoped>\n",
              "    .dataframe tbody tr th:only-of-type {\n",
              "        vertical-align: middle;\n",
              "    }\n",
              "\n",
              "    .dataframe tbody tr th {\n",
              "        vertical-align: top;\n",
              "    }\n",
              "\n",
              "    .dataframe thead th {\n",
              "        text-align: right;\n",
              "    }\n",
              "</style>\n",
              "<table border=\"1\" class=\"dataframe\">\n",
              "  <thead>\n",
              "    <tr style=\"text-align: right;\">\n",
              "      <th></th>\n",
              "      <th>0</th>\n",
              "    </tr>\n",
              "  </thead>\n",
              "  <tbody>\n",
              "    <tr>\n",
              "      <th>0</th>\n",
              "      <td>0</td>\n",
              "    </tr>\n",
              "    <tr>\n",
              "      <th>1</th>\n",
              "      <td>1</td>\n",
              "    </tr>\n",
              "    <tr>\n",
              "      <th>2</th>\n",
              "      <td>0</td>\n",
              "    </tr>\n",
              "    <tr>\n",
              "      <th>3</th>\n",
              "      <td>0</td>\n",
              "    </tr>\n",
              "    <tr>\n",
              "      <th>4</th>\n",
              "      <td>0</td>\n",
              "    </tr>\n",
              "  </tbody>\n",
              "</table>\n",
              "</div>\n",
              "      <button class=\"colab-df-convert\" onclick=\"convertToInteractive('df-50843fd7-9a10-4b9c-a70d-3f62907b0ab8')\"\n",
              "              title=\"Convert this dataframe to an interactive table.\"\n",
              "              style=\"display:none;\">\n",
              "        \n",
              "  <svg xmlns=\"http://www.w3.org/2000/svg\" height=\"24px\"viewBox=\"0 0 24 24\"\n",
              "       width=\"24px\">\n",
              "    <path d=\"M0 0h24v24H0V0z\" fill=\"none\"/>\n",
              "    <path d=\"M18.56 5.44l.94 2.06.94-2.06 2.06-.94-2.06-.94-.94-2.06-.94 2.06-2.06.94zm-11 1L8.5 8.5l.94-2.06 2.06-.94-2.06-.94L8.5 2.5l-.94 2.06-2.06.94zm10 10l.94 2.06.94-2.06 2.06-.94-2.06-.94-.94-2.06-.94 2.06-2.06.94z\"/><path d=\"M17.41 7.96l-1.37-1.37c-.4-.4-.92-.59-1.43-.59-.52 0-1.04.2-1.43.59L10.3 9.45l-7.72 7.72c-.78.78-.78 2.05 0 2.83L4 21.41c.39.39.9.59 1.41.59.51 0 1.02-.2 1.41-.59l7.78-7.78 2.81-2.81c.8-.78.8-2.07 0-2.86zM5.41 20L4 18.59l7.72-7.72 1.47 1.35L5.41 20z\"/>\n",
              "  </svg>\n",
              "      </button>\n",
              "      \n",
              "  <style>\n",
              "    .colab-df-container {\n",
              "      display:flex;\n",
              "      flex-wrap:wrap;\n",
              "      gap: 12px;\n",
              "    }\n",
              "\n",
              "    .colab-df-convert {\n",
              "      background-color: #E8F0FE;\n",
              "      border: none;\n",
              "      border-radius: 50%;\n",
              "      cursor: pointer;\n",
              "      display: none;\n",
              "      fill: #1967D2;\n",
              "      height: 32px;\n",
              "      padding: 0 0 0 0;\n",
              "      width: 32px;\n",
              "    }\n",
              "\n",
              "    .colab-df-convert:hover {\n",
              "      background-color: #E2EBFA;\n",
              "      box-shadow: 0px 1px 2px rgba(60, 64, 67, 0.3), 0px 1px 3px 1px rgba(60, 64, 67, 0.15);\n",
              "      fill: #174EA6;\n",
              "    }\n",
              "\n",
              "    [theme=dark] .colab-df-convert {\n",
              "      background-color: #3B4455;\n",
              "      fill: #D2E3FC;\n",
              "    }\n",
              "\n",
              "    [theme=dark] .colab-df-convert:hover {\n",
              "      background-color: #434B5C;\n",
              "      box-shadow: 0px 1px 3px 1px rgba(0, 0, 0, 0.15);\n",
              "      filter: drop-shadow(0px 1px 2px rgba(0, 0, 0, 0.3));\n",
              "      fill: #FFFFFF;\n",
              "    }\n",
              "  </style>\n",
              "\n",
              "      <script>\n",
              "        const buttonEl =\n",
              "          document.querySelector('#df-50843fd7-9a10-4b9c-a70d-3f62907b0ab8 button.colab-df-convert');\n",
              "        buttonEl.style.display =\n",
              "          google.colab.kernel.accessAllowed ? 'block' : 'none';\n",
              "\n",
              "        async function convertToInteractive(key) {\n",
              "          const element = document.querySelector('#df-50843fd7-9a10-4b9c-a70d-3f62907b0ab8');\n",
              "          const dataTable =\n",
              "            await google.colab.kernel.invokeFunction('convertToInteractive',\n",
              "                                                     [key], {});\n",
              "          if (!dataTable) return;\n",
              "\n",
              "          const docLinkHtml = 'Like what you see? Visit the ' +\n",
              "            '<a target=\"_blank\" href=https://colab.research.google.com/notebooks/data_table.ipynb>data table notebook</a>'\n",
              "            + ' to learn more about interactive tables.';\n",
              "          element.innerHTML = '';\n",
              "          dataTable['output_type'] = 'display_data';\n",
              "          await google.colab.output.renderOutput(dataTable, element);\n",
              "          const docLink = document.createElement('div');\n",
              "          docLink.innerHTML = docLinkHtml;\n",
              "          element.appendChild(docLink);\n",
              "        }\n",
              "      </script>\n",
              "    </div>\n",
              "  </div>\n",
              "  "
            ]
          },
          "metadata": {},
          "execution_count": 102
        }
      ],
      "source": [
        "predictions.head()"
      ]
    },
    {
      "cell_type": "markdown",
      "metadata": {
        "id": "RG9uGYSFX65g"
      },
      "source": [
        "# Conclusion\n",
        "\n",
        "According to this model, the predicted value matches with the actual target values. The model is performing well.  Performed EDA, preprocessing, built different models, visualized feature importance, did hyper parameter tunning and did the prediction as well."
      ]
    }
  ],
  "metadata": {
    "colab": {
      "collapsed_sections": [],
      "provenance": []
    },
    "kernelspec": {
      "display_name": "Python 3",
      "language": "python",
      "name": "python3"
    },
    "language_info": {
      "codemirror_mode": {
        "name": "ipython",
        "version": 3
      },
      "file_extension": ".py",
      "mimetype": "text/x-python",
      "name": "python",
      "nbconvert_exporter": "python",
      "pygments_lexer": "ipython3",
      "version": "3.7.6"
    }
  },
  "nbformat": 4,
  "nbformat_minor": 0
}